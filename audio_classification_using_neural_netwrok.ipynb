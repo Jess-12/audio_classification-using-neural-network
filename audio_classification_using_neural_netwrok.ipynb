{
  "nbformat": 4,
  "nbformat_minor": 0,
  "metadata": {
    "colab": {
      "provenance": [],
      "authorship_tag": "ABX9TyNOwKg9ctZBhpGbKF0bvApX",
      "include_colab_link": true
    },
    "kernelspec": {
      "name": "python3",
      "display_name": "Python 3"
    },
    "language_info": {
      "name": "python"
    }
  },
  "cells": [
    {
      "cell_type": "markdown",
      "metadata": {
        "id": "view-in-github",
        "colab_type": "text"
      },
      "source": [
        "<a href=\"https://colab.research.google.com/github/Jess-12/audio_classification-using-neural-network/blob/main/audio_classification_using_neural_netwrok.ipynb\" target=\"_parent\"><img src=\"https://colab.research.google.com/assets/colab-badge.svg\" alt=\"Open In Colab\"/></a>"
      ]
    },
    {
      "cell_type": "code",
      "execution_count": 1,
      "metadata": {
        "id": "PtZKs_Fxj2b9"
      },
      "outputs": [],
      "source": [
        "    import pandas as pd \n",
        "    import numpy as np\n",
        "    import IPython.display as ipd\n",
        "    import seaborn as sns\n",
        "    import matplotlib.pyplot as plt"
      ]
    },
    {
      "cell_type": "code",
      "source": [
        "    import librosa\n",
        "    import librosa.display  #audio visualization\""
      ],
      "metadata": {
        "id": "IHjCDhqQkIb1"
      },
      "execution_count": null,
      "outputs": []
    },
    {
      "cell_type": "markdown",
      "source": [
        "reading audio files"
      ],
      "metadata": {
        "id": "s59kyYkFnOMV"
      }
    },
    {
      "cell_type": "code",
      "source": [
        "audio, sr= librosa.load('Urban Sound/fold2/100652-3-0-2.wav')\n",
        "sound= ipd.Audio('Urban Sound/fold2/100652-3-0-2.wav')"
      ],
      "metadata": {
        "id": "XBZbdrUQnMi8"
      },
      "execution_count": null,
      "outputs": []
    },
    {
      "cell_type": "code",
      "source": [
        "sound"
      ],
      "metadata": {
        "id": "5QEmu9VOniMQ"
      },
      "execution_count": null,
      "outputs": []
    },
    {
      "cell_type": "code",
      "source": [
        "librosa.display.waveplot(audio)"
      ],
      "metadata": {
        "id": "NmVHkCDjnn3Z"
      },
      "execution_count": null,
      "outputs": []
    },
    {
      "cell_type": "markdown",
      "source": [
        "Reading the comman file"
      ],
      "metadata": {
        "id": "-GqWygXZ1gJj"
      }
    },
    {
      "cell_type": "code",
      "source": [
        "labels= pd.read_csv('Urban Sound/UrbanSound8K.csv')\n",
        "labels"
      ],
      "metadata": {
        "id": "YFXXKRBO1kyH"
      },
      "execution_count": null,
      "outputs": []
    },
    {
      "cell_type": "markdown",
      "source": [
        "extracting audio features\n"
      ],
      "metadata": {
        "id": "jDEpi9VL2Mre"
      }
    },
    {
      "cell_type": "code",
      "source": [
        "FRAME_SIZE= 1024\n",
        "HOP_LENGTH= 512\n",
        "ZCR_music = librosa.feature.zero_crossing_rate(audio, frame_length=FRAME_SIZE, hop_length=HOP_LENGTH)[0]"
      ],
      "metadata": {
        "id": "uETmfxEH2MW-"
      },
      "execution_count": null,
      "outputs": []
    },
    {
      "cell_type": "code",
      "source": [
        "mfccs_music = librosa.feature.mfcc(y=audio, sr=sr, n_mfcc=10)\n",
        "mfccs_music.shape"
      ],
      "metadata": {
        "id": "f4K-luUK2hYe"
      },
      "execution_count": null,
      "outputs": []
    },
    {
      "cell_type": "code",
      "source": [
        "plt.figure(figsize=(25, 10))\n",
        "librosa.display.specshow(mfccs_music,\n",
        "                        x_axis=\"time\",\n",
        "                            sr=sr)"
      ],
      "metadata": {
        "id": "pvAkjE983dW3"
      },
      "execution_count": null,
      "outputs": []
    }
  ]
}